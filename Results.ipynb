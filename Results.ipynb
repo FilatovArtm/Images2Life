{
 "cells": [
  {
   "cell_type": "markdown",
   "metadata": {},
   "source": [
    "### Transformer, learn weights"
   ]
  },
  {
   "cell_type": "code",
   "execution_count": 1,
   "metadata": {},
   "outputs": [
    {
     "data": {
      "text/html": [
       "<video width=\"320\" height=\"240\" controls loop>\n",
       "  <source src=\"transformer.texture_input.learn_weights.fit.mp4\" type=\"video/mp4\">\n",
       "</video>\n",
       "<video width=\"320\" height=\"240\" controls loop>\n",
       "  <source src=\"transformer.texture_input.learn_weights.predict.mp4\" type=\"video/mp4\">\n",
       "</video>\n",
       "<video width=\"320\" height=\"240\" controls loop>\n",
       "  <source src=\"original.mp4\" type=\"video/mp4\">\n",
       "</video>"
      ],
      "text/plain": [
       "<IPython.core.display.HTML object>"
      ]
     },
     "metadata": {},
     "output_type": "display_data"
    }
   ],
   "source": [
    "%%HTML\n",
    "<video width=\"320\" height=\"240\" controls loop>\n",
    "  <source src=\"transformer.texture_input.learn_weights.fit.mp4\" type=\"video/mp4\">\n",
    "</video>\n",
    "<video width=\"320\" height=\"240\" controls loop>\n",
    "  <source src=\"transformer.texture_input.learn_weights.predict.mp4\" type=\"video/mp4\">\n",
    "</video>\n",
    "<video width=\"320\" height=\"240\" controls loop>\n",
    "  <source src=\"original.mp4\" type=\"video/mp4\">\n",
    "</video>"
   ]
  },
  {
   "cell_type": "markdown",
   "metadata": {},
   "source": [
    "### Transformer, random weights"
   ]
  },
  {
   "cell_type": "code",
   "execution_count": 11,
   "metadata": {},
   "outputs": [
    {
     "data": {
      "text/html": [
       "<video width=\"320\" height=\"240\" controls loop>\n",
       "  <source src=\"new_transformer.texture_input.random_weights.fit.mp4\" type=\"video/mp4\">\n",
       "</video>\n",
       "<video width=\"320\" height=\"240\" controls loop>\n",
       "  <source src=\"new_transformer.texture_input.random_weights.predict.mp4\" type=\"video/mp4\">\n",
       "</video>\n",
       "<video width=\"320\" height=\"240\" controls loop>\n",
       "  <source src=\"original.mp4\" type=\"video/mp4\">\n",
       "</video>"
      ],
      "text/plain": [
       "<IPython.core.display.HTML object>"
      ]
     },
     "metadata": {},
     "output_type": "display_data"
    }
   ],
   "source": [
    "%%HTML\n",
    "<video width=\"320\" height=\"240\" controls loop>\n",
    "  <source src=\"new_transformer.texture_input.random_weights.fit.mp4\" type=\"video/mp4\">\n",
    "</video>\n",
    "<video width=\"320\" height=\"240\" controls loop>\n",
    "  <source src=\"new_transformer.texture_input.random_weights.predict.mp4\" type=\"video/mp4\">\n",
    "</video>\n",
    "<video width=\"320\" height=\"240\" controls loop>\n",
    "  <source src=\"original.mp4\" type=\"video/mp4\">\n",
    "</video>"
   ]
  },
  {
   "cell_type": "markdown",
   "metadata": {},
   "source": [
    "### Transformer, period weights"
   ]
  },
  {
   "cell_type": "code",
   "execution_count": 10,
   "metadata": {},
   "outputs": [
    {
     "data": {
      "text/html": [
       "<video width=\"320\" height=\"240\" controls loop>\n",
       "  <source src=\"transformer.texture_input.pereodic_weights.fit.mp4\" type=\"video/mp4\">\n",
       "</video>\n",
       "<video width=\"320\" height=\"240\" controls loop>\n",
       "  <source src=\"transformer.texture_input.pereodic_weights.predict.mp4\" type=\"video/mp4\">\n",
       "</video>\n",
       "<video width=\"320\" height=\"240\" controls loop>\n",
       "  <source src=\"original.mp4\" type=\"video/mp4\">\n",
       "</video>"
      ],
      "text/plain": [
       "<IPython.core.display.HTML object>"
      ]
     },
     "metadata": {},
     "output_type": "display_data"
    }
   ],
   "source": [
    "%%HTML\n",
    "<video width=\"320\" height=\"240\" controls loop>\n",
    "  <source src=\"transformer.texture_input.pereodic_weights.fit.mp4\" type=\"video/mp4\">\n",
    "</video>\n",
    "<video width=\"320\" height=\"240\" controls loop>\n",
    "  <source src=\"transformer.texture_input.pereodic_weights.predict.mp4\" type=\"video/mp4\">\n",
    "</video>\n",
    "<video width=\"320\" height=\"240\" controls loop>\n",
    "  <source src=\"original.mp4\" type=\"video/mp4\">\n",
    "</video>"
   ]
  },
  {
   "cell_type": "markdown",
   "metadata": {},
   "source": [
    "### Transformer, learn weights"
   ]
  },
  {
   "cell_type": "code",
   "execution_count": 2,
   "metadata": {
    "scrolled": true
   },
   "outputs": [
    {
     "data": {
      "text/html": [
       "<video width=\"320\" height=\"240\" controls loop>\n",
       "  <source src=\"transformer.texture_input.learn_weights.fit.6489b10.mp4\" type=\"video/mp4\">\n",
       "</video>\n",
       "<video width=\"320\" height=\"240\" controls loop>\n",
       "  <source src=\"transformer.texture_input.learn_weights.predict.6489b10.mp4\" type=\"video/mp4\">\n",
       "</video>\n",
       "<video width=\"320\" height=\"240\" controls loop>\n",
       "  <source src=\"original_6489b10.mp4\" type=\"video/mp4\">\n",
       "</video>"
      ],
      "text/plain": [
       "<IPython.core.display.HTML object>"
      ]
     },
     "metadata": {},
     "output_type": "display_data"
    }
   ],
   "source": [
    "%%HTML\n",
    "<video width=\"320\" height=\"240\" controls loop>\n",
    "  <source src=\"transformer.texture_input.learn_weights.fit.6489b10.mp4\" type=\"video/mp4\">\n",
    "</video>\n",
    "<video width=\"320\" height=\"240\" controls loop>\n",
    "  <source src=\"transformer.texture_input.learn_weights.predict.6489b10.mp4\" type=\"video/mp4\">\n",
    "</video>\n",
    "<video width=\"320\" height=\"240\" controls loop>\n",
    "  <source src=\"original_6489b10.mp4\" type=\"video/mp4\">\n",
    "</video>"
   ]
  },
  {
   "cell_type": "markdown",
   "metadata": {},
   "source": [
    "### skip, learn weights"
   ]
  },
  {
   "cell_type": "code",
   "execution_count": 15,
   "metadata": {},
   "outputs": [
    {
     "data": {
      "text/html": [
       "<video width=\"320\" height=\"240\" controls loop>\n",
       "  <source src=\"skip.texture_input.learn_weights.fit.6489b10.mp4\" type=\"video/mp4\">\n",
       "</video>\n",
       "<video width=\"320\" height=\"240\" controls loop>\n",
       "  <source src=\"skip.texture_input.learn_weights.predict.6489b10.mp4\" type=\"video/mp4\">\n",
       "</video>\n",
       "<video width=\"320\" height=\"240\" controls loop>\n",
       "  <source src=\"original_6489b10.mp4\" type=\"video/mp4\">\n",
       "</video>"
      ],
      "text/plain": [
       "<IPython.core.display.HTML object>"
      ]
     },
     "metadata": {},
     "output_type": "display_data"
    }
   ],
   "source": [
    "%%HTML\n",
    "<video width=\"320\" height=\"240\" controls loop>\n",
    "  <source src=\"skip.texture_input.learn_weights.fit.6489b10.mp4\" type=\"video/mp4\">\n",
    "</video>\n",
    "<video width=\"320\" height=\"240\" controls loop>\n",
    "  <source src=\"skip.texture_input.learn_weights.predict.6489b10.mp4\" type=\"video/mp4\">\n",
    "</video>\n",
    "<video width=\"320\" height=\"240\" controls loop>\n",
    "  <source src=\"original_6489b10.mp4\" type=\"video/mp4\">\n",
    "</video>"
   ]
  },
  {
   "cell_type": "markdown",
   "metadata": {},
   "source": [
    "### Transformer, learn weights"
   ]
  },
  {
   "cell_type": "code",
   "execution_count": 6,
   "metadata": {},
   "outputs": [
    {
     "data": {
      "text/html": [
       "<video width=\"320\" height=\"240\" controls loop>\n",
       "  <source src=\"transformer.texture_input.learn_weights.fit.6484f10.mp4\" type=\"video/mp4\">\n",
       "</video>\n",
       "<video width=\"320\" height=\"240\" controls loop>\n",
       "  <source src=\"transformer.texture_input.learn_weights.predict.6484f10.mp4\" type=\"video/mp4\">\n",
       "</video>\n",
       "<video width=\"320\" height=\"240\" controls loop>\n",
       "  <source src=\"original_6484f10.mp4\" type=\"video/mp4\">\n",
       "</video>"
      ],
      "text/plain": [
       "<IPython.core.display.HTML object>"
      ]
     },
     "metadata": {},
     "output_type": "display_data"
    }
   ],
   "source": [
    "%%HTML\n",
    "<video width=\"320\" height=\"240\" controls loop>\n",
    "  <source src=\"transformer.texture_input.learn_weights.fit.6484f10.mp4\" type=\"video/mp4\">\n",
    "</video>\n",
    "<video width=\"320\" height=\"240\" controls loop>\n",
    "  <source src=\"transformer.texture_input.learn_weights.predict.6484f10.mp4\" type=\"video/mp4\">\n",
    "</video>\n",
    "<video width=\"320\" height=\"240\" controls loop>\n",
    "  <source src=\"original_6484f10.mp4\" type=\"video/mp4\">\n",
    "</video>"
   ]
  },
  {
   "cell_type": "markdown",
   "metadata": {},
   "source": [
    "### skip, learn weights"
   ]
  },
  {
   "cell_type": "code",
   "execution_count": 16,
   "metadata": {},
   "outputs": [
    {
     "data": {
      "text/html": [
       "<video width=\"320\" height=\"240\" controls loop>\n",
       "  <source src=\"skip.texture_input.learn_weights.fit.6484f10.mp4\" type=\"video/mp4\">\n",
       "</video>\n",
       "<video width=\"320\" height=\"240\" controls loop>\n",
       "  <source src=\"skip.texture_input.learn_weights.predict.6484f10.mp4\" type=\"video/mp4\">\n",
       "</video>\n",
       "<video width=\"320\" height=\"240\" controls loop>\n",
       "  <source src=\"original_6484f10.mp4\" type=\"video/mp4\">\n",
       "</video>"
      ],
      "text/plain": [
       "<IPython.core.display.HTML object>"
      ]
     },
     "metadata": {},
     "output_type": "display_data"
    }
   ],
   "source": [
    "%%HTML\n",
    "<video width=\"320\" height=\"240\" controls loop>\n",
    "  <source src=\"skip.texture_input.learn_weights.fit.6484f10.mp4\" type=\"video/mp4\">\n",
    "</video>\n",
    "<video width=\"320\" height=\"240\" controls loop>\n",
    "  <source src=\"skip.texture_input.learn_weights.predict.6484f10.mp4\" type=\"video/mp4\">\n",
    "</video>\n",
    "<video width=\"320\" height=\"240\" controls loop>\n",
    "  <source src=\"original_6484f10.mp4\" type=\"video/mp4\">\n",
    "</video>"
   ]
  },
  {
   "cell_type": "code",
   "execution_count": null,
   "metadata": {},
   "outputs": [],
   "source": []
  }
 ],
 "metadata": {
  "kernelspec": {
   "display_name": "Python 3",
   "language": "python",
   "name": "python3"
  },
  "language_info": {
   "codemirror_mode": {
    "name": "ipython",
    "version": 3
   },
   "file_extension": ".py",
   "mimetype": "text/x-python",
   "name": "python",
   "nbconvert_exporter": "python",
   "pygments_lexer": "ipython3",
   "version": "3.5.2"
  }
 },
 "nbformat": 4,
 "nbformat_minor": 2
}
